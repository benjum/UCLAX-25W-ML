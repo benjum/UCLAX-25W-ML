{
 "cells": [
  {
   "cell_type": "markdown",
   "id": "42f70ae9-5696-48de-a9cf-546f041c6325",
   "metadata": {},
   "source": [
    "# Boosting"
   ]
  },
  {
   "cell_type": "code",
   "execution_count": null,
   "id": "51fa956b",
   "metadata": {},
   "outputs": [],
   "source": [
    "# When running, you will need to have xgboost installed, for example with:\n",
    "# !pip install xgboost\n",
    "# WARNING:  you may also need to concern yourself with xgb vs scikit-learn \n",
    "# compatable versions, for example: \n",
    "# https://stackoverflow.com/questions/79290968/super-object-has-no-attribute-sklearn-tags"
   ]
  },
  {
   "cell_type": "code",
   "execution_count": null,
   "id": "59152846-6fa9-4cb4-bd8c-3f18b4a18b4a",
   "metadata": {},
   "outputs": [],
   "source": [
    "# The following will import our libraries\n",
    "\n",
    "import numpy as np\n",
    "import pandas as pd\n",
    "import matplotlib.pyplot as plt\n",
    "import xgboost as xgb\n",
    "from sklearn.metrics import mean_squared_error, r2_score\n",
    "from sklearn.model_selection import GridSearchCV\n",
    "from sklearn.model_selection import train_test_split\n",
    "from sklearn.datasets import fetch_california_housing\n",
    "from sklearn.linear_model import LinearRegression\n",
    "from sklearn.ensemble import RandomForestRegressor\n",
    "from sklearn.inspection import DecisionBoundaryDisplay"
   ]
  },
  {
   "cell_type": "code",
   "execution_count": null,
   "id": "b29e7bb0-a1e0-4e10-bf23-e0eb02d1f0b7",
   "metadata": {},
   "outputs": [],
   "source": [
    "california_housing = fetch_california_housing(as_frame=True)\n",
    "ca_housing_df = california_housing.frame"
   ]
  },
  {
   "cell_type": "markdown",
   "id": "d13bcdf4-25ce-4482-b024-8d36ac4e6e13",
   "metadata": {},
   "source": [
    "## Train/test split"
   ]
  },
  {
   "cell_type": "code",
   "execution_count": null,
   "id": "1edf5635-7571-4bb6-9684-e2e9059ce777",
   "metadata": {},
   "outputs": [],
   "source": [
    "# Split the dataset into training and testing sets\n",
    "x_train, x_test, y_train, y_test = train_test_split(california_housing.data, \n",
    "                                                    california_housing.target, \n",
    "                                                    test_size=0.2, \n",
    "                                                    random_state=42)"
   ]
  },
  {
   "cell_type": "markdown",
   "id": "f026492b-5b88-43ca-85f1-0a03becdcada",
   "metadata": {},
   "source": [
    "## Linear Regression"
   ]
  },
  {
   "cell_type": "code",
   "execution_count": null,
   "id": "4ed4b227-7014-4cec-861d-24a2297c8eb0",
   "metadata": {},
   "outputs": [],
   "source": [
    "lin_reg = LinearRegression()\n",
    "\n",
    "lin_reg.fit(x_train, y_train)\n",
    "\n",
    "test_score = lin_reg.score(x_test, y_test)\n",
    "print(f\"R2 of Linear Regression: {test_score:.2f}\")\n",
    "\n",
    "preds = lin_reg.predict(x_test)\n",
    "rmse = np.sqrt(mean_squared_error(y_test, preds))\n",
    "print(\"RMSE: %f\" % (rmse))"
   ]
  },
  {
   "cell_type": "markdown",
   "id": "a5b430c2-fcae-4f9d-b8d8-a734f2ea7a1c",
   "metadata": {},
   "source": [
    "## Random Forest"
   ]
  },
  {
   "cell_type": "code",
   "execution_count": null,
   "id": "61f65af5-345c-4e8c-adfa-b07aa66182f4",
   "metadata": {},
   "outputs": [],
   "source": [
    "rf_reg = RandomForestRegressor(n_estimators=200, \n",
    "                                 max_depth=20, \n",
    "                                 n_jobs=-1,\n",
    "                                 random_state=42)\n",
    "rf_reg.fit(x_train, y_train)\n",
    "\n",
    "test_score = rf_reg.score(x_test, y_test)\n",
    "print(f\"R2 of Random Forest: {test_score:.2f}\")\n",
    "\n",
    "preds = rf_reg.predict(x_test)\n",
    "rmse = np.sqrt(mean_squared_error(y_test, preds))\n",
    "print(\"RMSE: %f\" % (rmse))"
   ]
  },
  {
   "cell_type": "code",
   "execution_count": null,
   "id": "7bfbd4ec-63d6-4eb2-8f00-e5e096f59445",
   "metadata": {},
   "outputs": [],
   "source": [
    "cv_grid = GridSearchCV(RandomForestRegressor(n_jobs=-1,random_state=42),\n",
    "                       param_grid = {\n",
    "                           'max_depth' : [10,20],\n",
    "                           'n_estimators' : [200],\n",
    "                           'max_leaf_nodes' : [8, 16]\n",
    "                       })\n",
    "cv_grid.fit(x_train, y_train)\n",
    "cv_grid.best_params_"
   ]
  },
  {
   "cell_type": "code",
   "execution_count": null,
   "id": "154367c2-49ce-4c1d-bf40-04673a69ef6c",
   "metadata": {},
   "outputs": [],
   "source": [
    "y_predict = cv_grid.predict(x_test)\n",
    "r2score = r2_score(y_test,y_predict)\n",
    "print('R2 of the best Random Forest regressor after CV is %.2f' % (r2score))"
   ]
  },
  {
   "cell_type": "code",
   "execution_count": null,
   "id": "fc123ee6-458f-420d-900e-30f60bfc9131",
   "metadata": {},
   "outputs": [],
   "source": [
    "plt.barh(california_housing.data.columns, rf_reg.feature_importances_)"
   ]
  },
  {
   "cell_type": "markdown",
   "id": "de8916c1-79ac-4a46-89b5-ac16da0aace5",
   "metadata": {},
   "source": [
    "## XGBoost"
   ]
  },
  {
   "cell_type": "markdown",
   "id": "ac7db74e-9dcd-4d6c-9890-0b8e141414e2",
   "metadata": {},
   "source": [
    "[XGBoost documentation](https://xgboost.readthedocs.io/en/stable/)\n",
    "* *\"XGBoost is an optimized distributed gradient boosting library designed to be highly efficient, flexible and portable. It implements machine learning algorithms under the Gradient Boosting framework. XGBoost provides a parallel tree boosting (also known as GBDT, GBM) that solve many data science problems in a fast and accurate way. The same code runs on major distributed environment (Hadoop, SGE, MPI) and can solve problems beyond billions of examples.\"*"
   ]
  },
  {
   "cell_type": "code",
   "execution_count": null,
   "id": "22972eec-e9a7-480e-b54a-98a6f4bf0208",
   "metadata": {},
   "outputs": [],
   "source": [
    "xg_reg = xgb.XGBRegressor(objective ='reg:squarederror', \n",
    "                          colsample_bytree = 0.3, \n",
    "                          learning_rate = 0.1,\n",
    "                          max_depth = 5, \n",
    "                          alpha = 10, \n",
    "                          n_estimators = 10)"
   ]
  },
  {
   "cell_type": "markdown",
   "id": "6953dd18-c14f-47c9-9ad9-6b507f035a2f",
   "metadata": {},
   "source": [
    "What are the above input parameters? [documentation on parameters](https://xgboost.readthedocs.io/en/stable/parameter.html)"
   ]
  },
  {
   "cell_type": "code",
   "execution_count": null,
   "id": "26c46457-3ce2-4589-8eaf-0adfc926f4ba",
   "metadata": {},
   "outputs": [],
   "source": [
    "xg_reg.fit(x_train,y_train)"
   ]
  },
  {
   "cell_type": "code",
   "execution_count": null,
   "id": "4cfc4e70-2da7-499a-b62e-98b7c60f32c3",
   "metadata": {},
   "outputs": [],
   "source": [
    "preds = xg_reg.predict(x_test)"
   ]
  },
  {
   "cell_type": "code",
   "execution_count": null,
   "id": "bfe7f070-f838-413e-9fd0-43479d52f86d",
   "metadata": {},
   "outputs": [],
   "source": [
    "test_score = xg_reg.score(x_test, y_test)\n",
    "print(f\"R2 of XGBoost: {test_score:.2f}\")\n",
    "\n",
    "rmse = np.sqrt(mean_squared_error(y_test, preds))\n",
    "print(\"RMSE: %f\" % (rmse))"
   ]
  },
  {
   "cell_type": "markdown",
   "id": "35ce4e54-f374-4c38-aad0-1db4c3d6c0d7",
   "metadata": {},
   "source": [
    "Well.... doesn't look like we picked a good set of parameters"
   ]
  },
  {
   "cell_type": "markdown",
   "id": "b67fa623-5d98-46a9-844c-7bbca3354743",
   "metadata": {},
   "source": [
    "We can improve by:\n",
    "* doing cross validation and searching for a better set of hyperparameters\n",
    "* the performance will also benefit from using the DMatrices of XGBoost:\n",
    "  * *\"DMatrix is the baisc data storage for XGBoost used by all XGBoost algorithms including both training, prediction and explanation. There are a few variants of DMatrix including normal DMatrix, which is a CSR matrix, QuantileDMatrix, which is used by histogram-based tree methods for saving memory, and lastly the experimental external-memory-based DMatrix, which reads data in batches during training.\"* -- [documentation](https://xgboost.readthedocs.io/en/stable/c.html#dmatrix)"
   ]
  },
  {
   "cell_type": "code",
   "execution_count": null,
   "id": "a254066b-f4b5-45b7-a229-eed735586def",
   "metadata": {},
   "outputs": [],
   "source": [
    "data_dmatrix_train = xgb.DMatrix(data=x_train,\n",
    "                                 label=y_train)\n",
    "data_dmatrix_test = xgb.DMatrix(data=x_test,\n",
    "                                label=y_test)"
   ]
  },
  {
   "cell_type": "code",
   "execution_count": null,
   "id": "fcf35871-430d-451d-a120-e658ad0f2570",
   "metadata": {},
   "outputs": [],
   "source": [
    "params = {\"objective\":\"reg:squarederror\",\n",
    "          'colsample_bytree': 0.3,\n",
    "          'learning_rate': 0.1,\n",
    "          'max_depth': 5,\n",
    "          'alpha': 10}\n",
    "\n",
    "cv_results = xgb.cv(dtrain=data_dmatrix_train,\n",
    "                    params=params,\n",
    "                    nfold=3,\n",
    "                    num_boost_round=1000,\n",
    "                    early_stopping_rounds=10,\n",
    "                    metrics=\"rmse\",\n",
    "                    as_pandas=True,\n",
    "                    seed=123)"
   ]
  },
  {
   "cell_type": "code",
   "execution_count": null,
   "id": "01cbac39-caba-48fe-b960-cd872f86e1f7",
   "metadata": {},
   "outputs": [],
   "source": [
    "cv_results.head()"
   ]
  },
  {
   "cell_type": "code",
   "execution_count": null,
   "id": "c4af3561-d1c0-4f8d-ba8e-97c3ba2c1a40",
   "metadata": {},
   "outputs": [],
   "source": [
    "print((cv_results[\"test-rmse-mean\"]).tail(1))"
   ]
  },
  {
   "cell_type": "code",
   "execution_count": null,
   "id": "5cce3b14-4666-4cdd-8fdd-395bf27073af",
   "metadata": {},
   "outputs": [],
   "source": [
    "ax = cv_results.plot(y='test-rmse-mean')\n",
    "cv_results.plot(y='train-rmse-mean', ax=ax)\n"
   ]
  },
  {
   "cell_type": "code",
   "execution_count": null,
   "id": "0bec6fb7-5473-4747-a331-d689b714c659",
   "metadata": {},
   "outputs": [],
   "source": [
    "for lr in [0.1, 0.2, 0.3]:\n",
    "    for md in [5, 10]:\n",
    "\n",
    "        params = {\"objective\":\"reg:squarederror\",\n",
    "                  'colsample_bytree': 0.3,\n",
    "                  'learning_rate': lr,\n",
    "                  'max_depth': md,\n",
    "                  'alpha': 10}\n",
    "\n",
    "        cv_results = xgb.cv(dtrain=data_dmatrix_train,\n",
    "                            params=params,\n",
    "                            nfold=3,\n",
    "                            num_boost_round=1000,\n",
    "                            early_stopping_rounds=10,\n",
    "                            metrics=\"rmse\",\n",
    "                            as_pandas=True,\n",
    "                            seed=123)\n",
    "        print(lr,md,(cv_results[\"test-rmse-mean\"]).tail(1))"
   ]
  },
  {
   "cell_type": "code",
   "execution_count": null,
   "id": "6858649c-cc1c-45ad-a1b7-c6e07439854a",
   "metadata": {},
   "outputs": [],
   "source": [
    "xg_reg = xgb.XGBRegressor(objective ='reg:squarederror', \n",
    "                          colsample_bytree = 0.3, \n",
    "                          learning_rate = 0.2,\n",
    "                          max_depth = 10,\n",
    "                          alpha = 10)"
   ]
  },
  {
   "cell_type": "code",
   "execution_count": null,
   "id": "231d98f9-643e-48b3-b106-43488ef048e1",
   "metadata": {},
   "outputs": [],
   "source": [
    "xg_reg.fit(x_train,y_train)"
   ]
  },
  {
   "cell_type": "code",
   "execution_count": null,
   "id": "5310013e-5b8c-4109-81c8-fd6249fb07b9",
   "metadata": {},
   "outputs": [],
   "source": [
    "preds = xg_reg.predict(x_test)"
   ]
  },
  {
   "cell_type": "code",
   "execution_count": null,
   "id": "ee1af223-7078-4681-9ead-ed145286e29d",
   "metadata": {},
   "outputs": [],
   "source": [
    "test_score = xg_reg.score(x_test, y_test)\n",
    "print(f\"R2 of XGBoost: {test_score:.2f}\")\n",
    "\n",
    "rmse = np.sqrt(mean_squared_error(y_test, preds))\n",
    "print(\"RMSE: %f\" % (rmse))"
   ]
  },
  {
   "cell_type": "code",
   "execution_count": null,
   "id": "eb5334b2-606f-4548-8986-7634683b9ab6",
   "metadata": {},
   "outputs": [],
   "source": [
    "xgb.plot_importance(xg_reg)\n",
    "# xgb.plot_importance(xg_reg, importance_type='gain')\n",
    "# xgb.plot_importance(xg_reg, importance_type='cover')\n",
    "plt.show()"
   ]
  },
  {
   "cell_type": "code",
   "execution_count": null,
   "id": "515fb6f0-6fbc-457b-8a3e-874c36533eac",
   "metadata": {},
   "outputs": [],
   "source": [
    "import matplotlib.pyplot as plt\n",
    "\n",
    "fig = plt.figure(figsize=(12,7))\n",
    "ax = plt.gca()\n",
    "xgb.plot_tree(xg_reg,num_trees=0,ax=ax)\n",
    "plt.show()"
   ]
  },
  {
   "cell_type": "code",
   "execution_count": null,
   "id": "ebd91527",
   "metadata": {},
   "outputs": [],
   "source": [
    "print(xg_reg.get_booster().get_dump()[0])"
   ]
  },
  {
   "cell_type": "markdown",
   "id": "81d1f843-15d1-4629-894e-98e8d83cf477",
   "metadata": {},
   "source": [
    "Rather than doing a manual search across parameter space, we can also use the GridSearchCV we looked at last time.\n",
    "\n",
    "Also, we are going to max out the memory here soon.  Let's restart the kernel and reset."
   ]
  },
  {
   "cell_type": "code",
   "execution_count": null,
   "id": "6df0a5eb-f5ac-4557-af66-2cd1f7d64a34",
   "metadata": {},
   "outputs": [],
   "source": [
    "xg_reg = xgb.XGBRegressor()"
   ]
  },
  {
   "cell_type": "code",
   "execution_count": null,
   "id": "690a5874-7523-4bc4-94be-0bc153993652",
   "metadata": {},
   "outputs": [],
   "source": [
    "params = {\"objective\":[\"reg:squarederror\"],\n",
    "                  'colsample_bytree': [0.3],\n",
    "                  'learning_rate': [0.1,0.3,0.5],\n",
    "                  'max_depth': [5,10,20],\n",
    "                  'alpha': [5,10]}\n",
    "\n",
    "xg_reg_best = GridSearchCV(xg_reg, params, n_jobs=-1)"
   ]
  },
  {
   "cell_type": "code",
   "execution_count": null,
   "id": "41d78a99-1b2b-4d43-9922-700f849bf35f",
   "metadata": {},
   "outputs": [],
   "source": [
    "xg_reg_best.fit(x_train, y_train)"
   ]
  },
  {
   "cell_type": "code",
   "execution_count": null,
   "id": "64a2cb20-723d-4fa8-8bd3-f0666d6d02d2",
   "metadata": {},
   "outputs": [],
   "source": [
    "# print the R2 score of the model\n",
    "\n",
    "test_score = xg_reg_best.score(x_test, y_test)\n",
    "print(f\"R2 of Linear Regression: {test_score:.2f}\")"
   ]
  },
  {
   "cell_type": "code",
   "execution_count": null,
   "id": "efbd7c0b-9677-4345-aadf-5544566fd8f3",
   "metadata": {},
   "outputs": [],
   "source": [
    "xg_reg_best.best_params_"
   ]
  },
  {
   "cell_type": "code",
   "execution_count": null,
   "id": "6cb4c20b-a43a-4028-98d7-fc27391c93d3",
   "metadata": {},
   "outputs": [],
   "source": [
    "y_predict = xg_reg_best.predict(x_test)"
   ]
  },
  {
   "cell_type": "code",
   "execution_count": null,
   "id": "7cab9c4e-318f-4f1f-803e-3bab4cc2d485",
   "metadata": {},
   "outputs": [],
   "source": [
    "print('MSE = %.2f' % mean_squared_error(y_test, y_predict))"
   ]
  },
  {
   "cell_type": "code",
   "execution_count": null,
   "id": "d762503e-7ad7-469f-855d-2ca55c3df74a",
   "metadata": {},
   "outputs": [],
   "source": [
    "y_predict = xg_reg_best.predict(x_test)\n",
    "r2score = r2_score(y_test,y_predict)\n",
    "print('R2 of the best regressor after CV is %.2f' % (r2score))"
   ]
  },
  {
   "cell_type": "code",
   "execution_count": null,
   "id": "4079e67e-2161-4660-8f63-81ec7e6eb0ba",
   "metadata": {},
   "outputs": [],
   "source": [
    "# print the R2 score of the model\n",
    "\n",
    "test_score = xg_reg_best.score(x_test, y_test)\n",
    "print(f\"R2 of XGBoost: {test_score:.2f}\")"
   ]
  },
  {
   "cell_type": "code",
   "execution_count": null,
   "id": "8e9aaa1c-2418-4bf7-9778-8baf37f39bd4",
   "metadata": {},
   "outputs": [],
   "source": [
    "test_score = lin_reg.score(x_test, y_test)\n",
    "print(f\"R2 of Linear Regression: {test_score:.2f}\")"
   ]
  },
  {
   "cell_type": "code",
   "execution_count": null,
   "id": "d3f10725-056a-479c-9655-36f4cb116a38",
   "metadata": {},
   "outputs": [],
   "source": [
    "print(xg_reg_best)"
   ]
  },
  {
   "cell_type": "code",
   "execution_count": null,
   "id": "e4a4b07d-7620-4990-a21a-c82cb477ae05",
   "metadata": {},
   "outputs": [],
   "source": [
    "print(xg_reg)"
   ]
  },
  {
   "cell_type": "code",
   "execution_count": null,
   "id": "fbd44362-0b2c-449d-bf51-07d22f7932b8",
   "metadata": {},
   "outputs": [],
   "source": [
    "xg_reg = xgb.train(params=xg_reg_best.best_params_, \n",
    "                   dtrain=data_dmatrix_train, \n",
    "                   num_boost_round=1000)"
   ]
  },
  {
   "cell_type": "code",
   "execution_count": null,
   "id": "81c9b93c-08a9-4216-9889-f145379183b1",
   "metadata": {},
   "outputs": [],
   "source": [
    "y_predict = xg_reg.predict(data_dmatrix_test)\n",
    "r2score = r2_score(y_test,y_predict)\n",
    "print('R2 of XGBoost after CV is %.2f' % (r2score))"
   ]
  },
  {
   "cell_type": "markdown",
   "id": "64959563-1276-4407-9aac-043de2794357",
   "metadata": {},
   "source": [
    "# Classification Example with Moons Dataset"
   ]
  },
  {
   "cell_type": "code",
   "execution_count": null,
   "id": "6e757460-258d-4ebd-a974-41a8db4118a4",
   "metadata": {},
   "outputs": [],
   "source": [
    "import seaborn as sns\n",
    "from sklearn.datasets import make_moons\n",
    "from sklearn.neighbors import KNeighborsClassifier\n",
    "from sklearn.linear_model import LogisticRegression\n",
    "from sklearn.tree import DecisionTreeClassifier\n",
    "from sklearn.ensemble import VotingClassifier\n",
    "from sklearn.metrics import accuracy_score\n",
    "%matplotlib inline"
   ]
  },
  {
   "cell_type": "code",
   "execution_count": null,
   "id": "aa15b166-77af-4cad-8241-58b802e9d596",
   "metadata": {},
   "outputs": [],
   "source": [
    "x, y = make_moons(n_samples=400, noise=0.3, random_state=42)"
   ]
  },
  {
   "cell_type": "code",
   "execution_count": null,
   "id": "e80565f5-40ae-4a0b-af4f-a000653e6aec",
   "metadata": {},
   "outputs": [],
   "source": [
    "sns.scatterplot(x=x[:,0], \n",
    "                y=x[:,1],\n",
    "                hue=y)"
   ]
  },
  {
   "cell_type": "code",
   "execution_count": null,
   "id": "8e0f436e-ee05-4afc-8bcb-f3bff82c376d",
   "metadata": {},
   "outputs": [],
   "source": [
    "# split into training/test sets\n",
    "\n",
    "x_train, x_test, y_train, y_test = train_test_split(x, \n",
    "                                                    y, \n",
    "                                                    random_state=0)"
   ]
  },
  {
   "cell_type": "code",
   "execution_count": null,
   "id": "5ec07482-ecd9-4007-b15c-26fe827d4a03",
   "metadata": {},
   "outputs": [],
   "source": [
    "knn_clf = KNeighborsClassifier()\n",
    "logreg_clf = LogisticRegression()\n",
    "tree_clf = DecisionTreeClassifier()"
   ]
  },
  {
   "cell_type": "code",
   "execution_count": null,
   "id": "8fda7347-c72b-4cae-8115-ad3765d68709",
   "metadata": {},
   "outputs": [],
   "source": [
    "voting_clf = VotingClassifier(\n",
    "    estimators=[('lr', logreg_clf), ('knn', knn_clf), ('tr', tree_clf)],\n",
    "    voting='hard')\n",
    "voting_clf.fit(x_train, y_train)\n",
    "classifiers = [knn_clf, logreg_clf, tree_clf, voting_clf]\n",
    "for clf in classifiers:\n",
    "    clf.fit(x_train, y_train)\n",
    "    y_pred = clf.predict(x_test)\n",
    "    print(clf.__class__.__name__, accuracy_score(y_test, y_pred))"
   ]
  },
  {
   "cell_type": "code",
   "execution_count": null,
   "id": "f074e64a-ee77-4d11-9c91-74ac1a468f87",
   "metadata": {},
   "outputs": [],
   "source": [
    "votingsoft_clf = VotingClassifier(\n",
    "    estimators=[('lr', logreg_clf), ('knn', knn_clf), ('tr', tree_clf)],\n",
    "    voting='soft')\n",
    "\n",
    "votingsoft_clf.fit(x_train, y_train)\n",
    "\n",
    "classifiers = [knn_clf, logreg_clf, tree_clf, voting_clf, votingsoft_clf]\n",
    "\n",
    "for clf in classifiers:\n",
    "    clf.fit(x_train, y_train)\n",
    "    y_pred = clf.predict(x_test)\n",
    "    print(clf.__class__.__name__, accuracy_score(y_test, y_pred))"
   ]
  },
  {
   "cell_type": "markdown",
   "id": "e85f0045-65b1-407c-b256-8c6ff1b2a7b1",
   "metadata": {},
   "source": [
    "# Bagging"
   ]
  },
  {
   "cell_type": "code",
   "execution_count": null,
   "id": "807e5105-e803-4db7-98c7-04997312197d",
   "metadata": {},
   "outputs": [],
   "source": [
    "from sklearn.ensemble import BaggingClassifier\n",
    "from sklearn.tree import DecisionTreeClassifier\n",
    "\n",
    "bag_clf = BaggingClassifier(\n",
    "    DecisionTreeClassifier(), n_estimators=500,\n",
    "    max_samples=100, bootstrap=True, n_jobs=-1)\n",
    "bag_clf.fit(x_train, y_train)\n",
    "y_pred = bag_clf.predict(x_test)\n",
    "print(bag_clf.__class__.__name__, accuracy_score(y_test, y_pred))"
   ]
  },
  {
   "cell_type": "code",
   "execution_count": null,
   "id": "9c5e603e-76ee-4628-bd94-8cc73fa658dd",
   "metadata": {},
   "outputs": [],
   "source": [
    "from sklearn.ensemble import RandomForestClassifier"
   ]
  },
  {
   "cell_type": "code",
   "execution_count": null,
   "id": "13f149d4",
   "metadata": {},
   "outputs": [],
   "source": [
    "rnd_clf = RandomForestClassifier(n_estimators=500, \n",
    "                                 max_leaf_nodes=16, \n",
    "                                 n_jobs=-1,\n",
    "                                 random_state=42)\n",
    "rnd_clf.fit(x_train, y_train)\n",
    "\n",
    "y_pred_rf = rnd_clf.predict(x_test)\n",
    "accuracy_score(y_test, y_pred_rf)"
   ]
  },
  {
   "cell_type": "code",
   "execution_count": null,
   "id": "aa6a288b-4baf-4cd4-a203-00b9eaff90e4",
   "metadata": {},
   "outputs": [],
   "source": [
    "classifiers = [knn_clf, logreg_clf, tree_clf, voting_clf, votingsoft_clf, rnd_clf]"
   ]
  },
  {
   "cell_type": "code",
   "execution_count": null,
   "id": "5f6d210b-daff-4c6f-9418-075d9627e50a",
   "metadata": {},
   "outputs": [],
   "source": [
    "for clf in classifiers:\n",
    "    clf.fit(x_train, y_train)\n",
    "    y_pred = clf.predict(x_test)\n",
    "    print(clf.__class__.__name__, accuracy_score(y_test, y_pred))"
   ]
  },
  {
   "cell_type": "code",
   "execution_count": null,
   "id": "db6a03e9-27c9-41ea-ba0f-8300f0dafdcb",
   "metadata": {},
   "outputs": [],
   "source": [
    "xg_clf = xgb.XGBClassifier()"
   ]
  },
  {
   "cell_type": "code",
   "execution_count": null,
   "id": "3249ebea-186e-4b1e-999b-83685ae9084c",
   "metadata": {},
   "outputs": [],
   "source": [
    "params = {\"objective\":[\"binary:logistic\"],\n",
    "                  'colsample_bytree': [0.3,0.5,1.0],\n",
    "                  'learning_rate': [0.1,0.3,0.5],\n",
    "                  'max_depth': [2,3,5,10],\n",
    "                  'alpha': [3,5,10]}\n",
    "\n",
    "clf = GridSearchCV(xg_clf, params, n_jobs=-1, \n",
    "                   scoring='accuracy')"
   ]
  },
  {
   "cell_type": "code",
   "execution_count": null,
   "id": "29ef4d72-db62-460c-883a-a3189c3d8ae6",
   "metadata": {
    "tags": []
   },
   "outputs": [],
   "source": [
    "clf.fit(x_train, y_train)"
   ]
  },
  {
   "cell_type": "code",
   "execution_count": null,
   "id": "79b70b4f-514a-4991-ab3a-7a0d6ef05fe2",
   "metadata": {},
   "outputs": [],
   "source": [
    "clf.best_params_"
   ]
  },
  {
   "cell_type": "code",
   "execution_count": null,
   "id": "7c34fcd3-bfb2-4570-b4fa-b9716b30161c",
   "metadata": {},
   "outputs": [],
   "source": [
    "from sklearn.metrics import classification_report"
   ]
  },
  {
   "cell_type": "code",
   "execution_count": null,
   "id": "9e264c4d-b879-46cc-b56d-d1a070f46adf",
   "metadata": {},
   "outputs": [],
   "source": [
    "print(classification_report(y_test, clf.predict(x_test)))"
   ]
  },
  {
   "cell_type": "code",
   "execution_count": null,
   "id": "adf2d1b5-6e8f-4adb-b87f-8b88f5397b9d",
   "metadata": {},
   "outputs": [],
   "source": [
    "# plot the decision boundary with the data\n",
    "\n",
    "DecisionBoundaryDisplay.from_estimator(clf, \n",
    "                                       x, \n",
    "                                       response_method=\"predict\",\n",
    "                                       cmap=\"RdBu\", \n",
    "                                       alpha=0.5\n",
    ")\n",
    "\n",
    "sns.scatterplot(x=x[:,0], \n",
    "                y=x[:,1],\n",
    "                hue=y,\n",
    "                palette=['red','green'])\n",
    "\n",
    "plt.legend(bbox_to_anchor=(1.05, 1), loc='upper left')"
   ]
  },
  {
   "cell_type": "code",
   "execution_count": null,
   "id": "4900aeb7",
   "metadata": {},
   "outputs": [],
   "source": [
    "import ipywidgets"
   ]
  },
  {
   "cell_type": "code",
   "execution_count": null,
   "id": "6dc3c44a",
   "metadata": {},
   "outputs": [],
   "source": [
    "# plot the decision boundary with the data\n",
    "\n",
    "def modelbnd(model=clf):\n",
    "    DecisionBoundaryDisplay.from_estimator(model, \n",
    "                                           x, \n",
    "                                           response_method=\"predict\",\n",
    "                                           cmap=\"RdBu\", \n",
    "                                           alpha=0.5\n",
    "    )\n",
    "\n",
    "    sns.scatterplot(x=x[:,0], \n",
    "                    y=x[:,1],\n",
    "                    hue=y,\n",
    "                    palette=['red','green'])\n",
    "\n",
    "    plt.legend(bbox_to_anchor=(1.05, 1), loc='upper left')\n",
    "    \n",
    "ipywidgets.interactive(modelbnd, model = [clf,\n",
    "                                          knn_clf, \n",
    "                                          logreg_clf, \n",
    "                                          tree_clf, \n",
    "                                          voting_clf, \n",
    "                                          votingsoft_clf, \n",
    "                                          rnd_clf])"
   ]
  }
 ],
 "metadata": {
  "kernelspec": {
   "display_name": "Python 3 (ipykernel)",
   "language": "python",
   "name": "python3"
  },
  "language_info": {
   "codemirror_mode": {
    "name": "ipython",
    "version": 3
   },
   "file_extension": ".py",
   "mimetype": "text/x-python",
   "name": "python",
   "nbconvert_exporter": "python",
   "pygments_lexer": "ipython3",
   "version": "3.10.16"
  }
 },
 "nbformat": 4,
 "nbformat_minor": 5
}
