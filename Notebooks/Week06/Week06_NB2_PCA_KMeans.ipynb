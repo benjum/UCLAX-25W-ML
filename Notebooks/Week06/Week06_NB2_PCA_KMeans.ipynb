{
 "cells": [
  {
   "cell_type": "markdown",
   "id": "fda0961f",
   "metadata": {},
   "source": [
    "# Illustrating Principal Component Analysis (PCA) with Penguins"
   ]
  },
  {
   "cell_type": "code",
   "execution_count": null,
   "id": "71d5df81",
   "metadata": {},
   "outputs": [],
   "source": [
    "# Execute this cell to import libraries\n",
    "\n",
    "import numpy as np\n",
    "import matplotlib.pyplot as plt\n",
    "import pandas as pd\n",
    "import seaborn as sns\n",
    "\n",
    "from sklearn.cluster import KMeans\n",
    "from sklearn.decomposition import PCA\n",
    "from sklearn.preprocessing import StandardScaler"
   ]
  },
  {
   "cell_type": "code",
   "execution_count": null,
   "id": "91cef64a",
   "metadata": {},
   "outputs": [],
   "source": [
    "x1 = np.linspace(1,100,100)\n",
    "x2 = x1 + np.random.normal(0,2,100)"
   ]
  },
  {
   "cell_type": "code",
   "execution_count": null,
   "id": "1b31ede7",
   "metadata": {},
   "outputs": [],
   "source": [
    "plt.plot(x1,x2,'ko')"
   ]
  },
  {
   "cell_type": "code",
   "execution_count": null,
   "id": "40019b16",
   "metadata": {},
   "outputs": [],
   "source": [
    "xall = np.array([x1,x2]).T"
   ]
  },
  {
   "cell_type": "code",
   "execution_count": null,
   "id": "795e773d",
   "metadata": {},
   "outputs": [],
   "source": [
    "xall.shape"
   ]
  },
  {
   "cell_type": "code",
   "execution_count": null,
   "id": "f4309915",
   "metadata": {},
   "outputs": [],
   "source": [
    "xall[10]"
   ]
  },
  {
   "cell_type": "code",
   "execution_count": null,
   "id": "85c84386",
   "metadata": {},
   "outputs": [],
   "source": [
    "# initialize the PCA object to only retain the first two principal components\n",
    "pca = PCA(n_components=2)"
   ]
  },
  {
   "cell_type": "code",
   "execution_count": null,
   "id": "f41ab02c",
   "metadata": {},
   "outputs": [],
   "source": [
    "# obtain the dimensionally reduced version of our dataset\n",
    "xall_reduced = pca.fit_transform(xall)"
   ]
  },
  {
   "cell_type": "code",
   "execution_count": null,
   "id": "60753f9a",
   "metadata": {},
   "outputs": [],
   "source": [
    "plt.plot(xall_reduced[:,0],xall_reduced[:,1],'ko')\n",
    "plt.xlim(-100,100)\n",
    "plt.ylim(-100,100)"
   ]
  },
  {
   "cell_type": "code",
   "execution_count": null,
   "id": "53c6282b",
   "metadata": {},
   "outputs": [],
   "source": [
    "pca.explained_variance_ratio_"
   ]
  },
  {
   "cell_type": "code",
   "execution_count": null,
   "id": "d903b7fb",
   "metadata": {},
   "outputs": [],
   "source": [
    "pca.components_"
   ]
  },
  {
   "cell_type": "code",
   "execution_count": null,
   "id": "d13346f8",
   "metadata": {},
   "outputs": [],
   "source": [
    "pca.components_[0]"
   ]
  },
  {
   "cell_type": "code",
   "execution_count": null,
   "id": "7cd67df3",
   "metadata": {},
   "outputs": [],
   "source": [
    "fig,ax = plt.subplots(figsize=(5,5))\n",
    "plt.plot([0,100*pca.components_[0][0]], [0,100*pca.components_[0][1]], 'r')\n",
    "plt.plot([0,100*pca.components_[1][0]], [0,100*pca.components_[1][1]], 'b')\n",
    "plt.xlim(-110,110)\n",
    "plt.ylim(-110,110)\n",
    "plt.scatter(xall[:,0],xall[:,1],s=2)"
   ]
  },
  {
   "cell_type": "markdown",
   "id": "a39826e3",
   "metadata": {},
   "source": [
    "As an applied example, I will use Seaborn (`sns`) to import the toy Penguins dataset and I will drop all rows that have NaNs:"
   ]
  },
  {
   "cell_type": "code",
   "execution_count": null,
   "id": "8226f181",
   "metadata": {},
   "outputs": [],
   "source": [
    "p = sns.load_dataset('penguins')\n",
    "p = p.dropna()"
   ]
  },
  {
   "cell_type": "code",
   "execution_count": null,
   "id": "d2f0f659",
   "metadata": {},
   "outputs": [],
   "source": [
    "# View the first 5 rows\n",
    "p.head()"
   ]
  },
  {
   "cell_type": "code",
   "execution_count": null,
   "id": "de5d9ac3",
   "metadata": {},
   "outputs": [],
   "source": [
    "# Each species has measurements that fall into different regions of the feature space\n",
    "sns.pairplot(data=p,\n",
    "             hue='species')"
   ]
  },
  {
   "cell_type": "markdown",
   "id": "46ec5a00",
   "metadata": {},
   "source": [
    "For clustering, we'll assume we DO NOT know what the species are, and we will only retain the numerical data."
   ]
  },
  {
   "cell_type": "code",
   "execution_count": null,
   "id": "e6cf0fdb",
   "metadata": {},
   "outputs": [],
   "source": [
    "p_data = p.select_dtypes(include='number')"
   ]
  },
  {
   "cell_type": "markdown",
   "id": "32c21425",
   "metadata": {},
   "source": [
    "`p_data` has 333 data samples and 4 columns for the numerical features, as can be seen with the following:"
   ]
  },
  {
   "cell_type": "code",
   "execution_count": null,
   "id": "e9eff0de",
   "metadata": {},
   "outputs": [],
   "source": [
    "p_data.shape"
   ]
  },
  {
   "cell_type": "code",
   "execution_count": null,
   "id": "872d7201",
   "metadata": {},
   "outputs": [],
   "source": [
    "p_data.head()"
   ]
  },
  {
   "cell_type": "markdown",
   "id": "0aaf4cf3",
   "metadata": {},
   "source": [
    "This is a small dataset, but let's assume that we are EXTREMELY low on RAM and want to retain a lower number of features before doing our ML.\n",
    "\n",
    "We can use PCA (Principal Components Analysis) to identify vectors in our feature space that retain a maximal amount of variance in our data and allow us to transform our coordinates in order to drop down into a lower-dimensional space.\n",
    "\n",
    "* Here's the documentation for Scikit-Learn's PCA\n",
    "  * https://scikit-learn.org/stable/modules/generated/sklearn.decomposition.PCA.html\n",
    "* As an input parameter, we can specify `n_components`\n",
    "  * If this is assigned an integer value, it will be the number of principal components to retain\n",
    "  * If this is assigned a float value between 0 and 1, it will be the percentage of variance to retain"
   ]
  },
  {
   "cell_type": "code",
   "execution_count": null,
   "id": "6c0b1ad2",
   "metadata": {},
   "outputs": [],
   "source": [
    "# initialize the PCA object to only retain the first two principal components\n",
    "pca = PCA(n_components=2)"
   ]
  },
  {
   "cell_type": "code",
   "execution_count": null,
   "id": "02ead765",
   "metadata": {},
   "outputs": [],
   "source": [
    "# obtain the dimensionally reduced version of our dataset\n",
    "p_data_reduced = pca.fit_transform(p_data)"
   ]
  },
  {
   "cell_type": "markdown",
   "id": "cf1ba13c",
   "metadata": {},
   "source": [
    "* `p_data_reduced` is now a numpy array rather than a Pandas dataframe\n",
    "* The above code retains only the first two principal components, so now we'll have reduced the dimensionality of our feature space from 4 to 2:"
   ]
  },
  {
   "cell_type": "code",
   "execution_count": null,
   "id": "1b1c889f",
   "metadata": {},
   "outputs": [],
   "source": [
    "p_data_reduced.shape"
   ]
  },
  {
   "cell_type": "markdown",
   "id": "fc379cb0",
   "metadata": {},
   "source": [
    "More precisely, the values in the two columns are now the values corresponding to the transformed coordinates along our first two principal components, and the other two principal components have been dropped.  The amount of variance in our data that is explained by each of the components is:"
   ]
  },
  {
   "cell_type": "code",
   "execution_count": null,
   "id": "959a1971",
   "metadata": {},
   "outputs": [],
   "source": [
    "pca.explained_variance_ratio_"
   ]
  },
  {
   "cell_type": "markdown",
   "id": "fd0ba838",
   "metadata": {},
   "source": [
    "Which means that ~99.99% of the variance lies along the direction specified by the first PC, and 0.0078% by the second PC.  \n",
    "\n",
    "This may seem to be too fortuitous that all the variance lies along one PC, and indeed it is -> one feature variable has a much larger range than the others and its variance overwhelms the other variables."
   ]
  },
  {
   "cell_type": "markdown",
   "id": "28ffefbb",
   "metadata": {},
   "source": [
    "We could also operate by identifying the amount of variance we want to retain.  If we want to retain enough principal components to explain some percentage of the variance, we could write:"
   ]
  },
  {
   "cell_type": "code",
   "execution_count": null,
   "id": "ed11bba6",
   "metadata": {},
   "outputs": [],
   "source": [
    "pca = PCA(n_components=0.95)\n",
    "p_data_reduced = pca.fit_transform(p_data)"
   ]
  },
  {
   "cell_type": "markdown",
   "id": "0ae23e1e",
   "metadata": {},
   "source": [
    "And we would now have a number of components to retain 95% of the variance.  The number can be found with:"
   ]
  },
  {
   "cell_type": "code",
   "execution_count": null,
   "id": "21e0edff",
   "metadata": {},
   "outputs": [],
   "source": [
    "pca.n_components_"
   ]
  },
  {
   "cell_type": "markdown",
   "id": "a84fc0cd",
   "metadata": {},
   "source": [
    "And the dataset would be reduced in dimensionality to:"
   ]
  },
  {
   "cell_type": "code",
   "execution_count": null,
   "id": "f4b376e7",
   "metadata": {},
   "outputs": [],
   "source": [
    "p_data_reduced.shape"
   ]
  },
  {
   "cell_type": "markdown",
   "id": "215e65e9",
   "metadata": {},
   "source": [
    "If all the variance is explained with just one principal component, this is usually a red flag -> it can mean that one variable has very large values compared to the others and its variance is much larger in magnitude, or it can mean that some variables are highly correlated.\n",
    "\n",
    "I will do one more processing step to put the variable values on a common scale with standard scaling:"
   ]
  },
  {
   "cell_type": "code",
   "execution_count": null,
   "id": "eb1be5d5",
   "metadata": {},
   "outputs": [],
   "source": [
    "s = StandardScaler()\n",
    "p_data_scaled = s.fit_transform(p_data)\n",
    "\n",
    "# and use the scaled data when reducing the dimensionality\n",
    "pca = PCA(n_components=0.95)\n",
    "p_data_reduced = pca.fit_transform(p_data_scaled)\n",
    "\n",
    "print('Number of components: ', pca.n_components_)\n",
    "print('Shape of reduced p_data_scaled: ', p_data_reduced.shape)\n",
    "print('Variance explained by each PC: ', pca.explained_variance_ratio_)"
   ]
  },
  {
   "cell_type": "markdown",
   "id": "a7c5438e",
   "metadata": {},
   "source": [
    "Now let's do the clustering.  To do K-Means Clustering, I will:\n",
    "* use Scikit-Learn's `KMeans` (which is already imported)\n",
    "  * https://scikit-learn.org/stable/modules/generated/sklearn.cluster.KMeans.html\n",
    "* specify the number of clusters to be 3\n",
    "* specify `n_init=10`, which means 10 trainings will be performed with different initial centroid seeds and the result will be that training which gives the best result in terms of inertia"
   ]
  },
  {
   "cell_type": "code",
   "execution_count": null,
   "id": "71f57a53",
   "metadata": {},
   "outputs": [],
   "source": [
    "kmeans = KMeans(n_clusters=3, n_init=10)\n",
    "\n",
    "# Here the fit is done on the dimensionally-reduced data, not the whole dataset\n",
    "kmeans.fit(p_data_reduced)"
   ]
  },
  {
   "cell_type": "code",
   "execution_count": null,
   "id": "13010622",
   "metadata": {},
   "outputs": [],
   "source": [
    "# add a new column to our original dataframe with the predicted cluster values\n",
    "p['cluster'] = kmeans.predict(p_data_reduced)\n",
    "\n",
    "# plot the pairplot again with color representing the predicted cluster value (not the species value!)\n",
    "sns.pairplot(data=p,\n",
    "             hue='cluster')"
   ]
  },
  {
   "cell_type": "markdown",
   "id": "f23a67df",
   "metadata": {},
   "source": [
    "The above colors represent the clusters identified by K-Means Clustering, and we have done the clustering using only 3 principal components rather than the 4 original features.  You can compare against the previous plot showing colors for species to see how well they line up."
   ]
  }
 ],
 "metadata": {
  "kernelspec": {
   "display_name": "Python 3 (ipykernel)",
   "language": "python",
   "name": "python3"
  },
  "language_info": {
   "codemirror_mode": {
    "name": "ipython",
    "version": 3
   },
   "file_extension": ".py",
   "mimetype": "text/x-python",
   "name": "python",
   "nbconvert_exporter": "python",
   "pygments_lexer": "ipython3",
   "version": "3.10.16"
  }
 },
 "nbformat": 4,
 "nbformat_minor": 5
}
