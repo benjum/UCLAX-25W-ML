{
 "cells": [
  {
   "cell_type": "markdown",
   "id": "b7f10d3d-4ed4-490e-8e1d-cababfe91a71",
   "metadata": {},
   "source": [
    "# Clustering with DBSCAN"
   ]
  },
  {
   "cell_type": "code",
   "execution_count": null,
   "id": "f0f9493b-7120-4789-b1c7-03a28083c9c0",
   "metadata": {},
   "outputs": [],
   "source": [
    "import pandas as pd"
   ]
  },
  {
   "cell_type": "markdown",
   "id": "2d95e272-9213-48b2-985b-9633d6526624",
   "metadata": {},
   "source": [
    "First we make our fictional dataset."
   ]
  },
  {
   "cell_type": "code",
   "execution_count": null,
   "id": "b59d530b-3331-4d21-a34f-4075b1fbe64b",
   "metadata": {},
   "outputs": [],
   "source": [
    "from sklearn.datasets import make_blobs"
   ]
  },
  {
   "cell_type": "code",
   "execution_count": null,
   "id": "af6ba11c-d3d0-4ccd-8e65-5da2f65d72b9",
   "metadata": {},
   "outputs": [],
   "source": [
    "x, y = make_blobs(n_samples=300, centers=4, cluster_std=0.60, random_state=0)"
   ]
  },
  {
   "cell_type": "code",
   "execution_count": null,
   "id": "d6820fd5-67eb-4a75-af46-01a082b6ffa0",
   "metadata": {},
   "outputs": [],
   "source": [
    "x[:10]"
   ]
  },
  {
   "cell_type": "code",
   "execution_count": null,
   "id": "d5e6fffe-eec1-40d7-91a4-6e9248c8c4fc",
   "metadata": {},
   "outputs": [],
   "source": [
    "y"
   ]
  },
  {
   "cell_type": "code",
   "execution_count": null,
   "id": "94a301b9-872c-4d0b-9a20-5e44627abe01",
   "metadata": {},
   "outputs": [],
   "source": [
    "import matplotlib.pyplot as plt"
   ]
  },
  {
   "cell_type": "code",
   "execution_count": null,
   "id": "78403b3b-8009-43b6-8507-0be371e1e642",
   "metadata": {},
   "outputs": [],
   "source": [
    "ourcolors = ['red','blue','black','green','yellow','magenta','orange','brown','grey','aqua']"
   ]
  },
  {
   "cell_type": "code",
   "execution_count": null,
   "id": "113e26f7-0257-42fa-8c70-99f90a3573f3",
   "metadata": {},
   "outputs": [],
   "source": [
    "plt.scatter(x[:,0],\n",
    "            x[:,1],\n",
    "            color=[ourcolors[i] for i in y])\n",
    "plt.xlabel('x0')\n",
    "plt.ylabel('x1')"
   ]
  },
  {
   "cell_type": "code",
   "execution_count": null,
   "id": "cbb1ee34-87bd-48a5-87f2-bf17476c177c",
   "metadata": {},
   "outputs": [],
   "source": [
    "plt.scatter(x[:,0],\n",
    "            x[:,1])\n",
    "plt.xlabel('x0')\n",
    "plt.ylabel('x1')"
   ]
  },
  {
   "cell_type": "code",
   "execution_count": null,
   "id": "5ab2735e-e8ed-4b61-996b-03f1ea957161",
   "metadata": {},
   "outputs": [],
   "source": [
    "# from sklearn.cluster import KMeans\n",
    "from sklearn.cluster import DBSCAN"
   ]
  },
  {
   "cell_type": "markdown",
   "id": "bcf0f7ae-eefe-472d-b2af-437c2ef35322",
   "metadata": {},
   "source": [
    "We create an object for our model by calling \"DBSCAN\" with specification for `eps` (the distance around a given point to search for neighboring instances) and `min_samples` (the minimum number of samples that a neighborhood has to include for a point to be considered a core point)."
   ]
  },
  {
   "cell_type": "code",
   "execution_count": null,
   "id": "9dd8bfb8-315c-4886-8c1e-347aaa75a152",
   "metadata": {},
   "outputs": [],
   "source": [
    "# kmeans = KMeans(n_clusters=4, n_init=10)\n",
    "dbscan = DBSCAN(eps=0.1, min_samples=5)"
   ]
  },
  {
   "cell_type": "markdown",
   "id": "e7eb5008-8353-4f3c-989d-4e849099c9fb",
   "metadata": {},
   "source": [
    "We then call the fit method, and pass in the data in which we want to search for clusters"
   ]
  },
  {
   "cell_type": "code",
   "execution_count": null,
   "id": "5e0530bf-9286-4cfa-b2a8-bd87b01557f2",
   "metadata": {},
   "outputs": [],
   "source": [
    "# kmeans.fit(x)\n",
    "dbscan.fit(x)"
   ]
  },
  {
   "cell_type": "code",
   "execution_count": null,
   "id": "a1c702a0-a6ae-4af1-9418-17917db91766",
   "metadata": {},
   "outputs": [],
   "source": [
    "x[[0]]"
   ]
  },
  {
   "cell_type": "code",
   "execution_count": null,
   "id": "ed77b316-5c23-4bde-bb39-7ff8dbf62a7e",
   "metadata": {},
   "outputs": [],
   "source": [
    "dbscan.core_sample_indices_"
   ]
  },
  {
   "cell_type": "code",
   "execution_count": null,
   "id": "5996828c-6492-4457-b7fd-ec6aafdf1fb8",
   "metadata": {},
   "outputs": [],
   "source": [
    "# kmeans.predict(x[[0]])\n",
    "dbscan.predict(x[[0]])\n",
    "\n",
    "# Will give an error!\n",
    "# DBSCAN is a density-based clustering method that \n",
    "# does not learn explicit cluster centers"
   ]
  },
  {
   "cell_type": "code",
   "execution_count": null,
   "id": "4ab47285-ddf4-41d2-8708-9d7167e82bc5",
   "metadata": {},
   "outputs": [],
   "source": [
    "# One could instead identify the nearest core point and identify\n",
    "# the cluster with that point's cluster\n",
    "# or\n",
    "# train KNN on the core points\n",
    "\n",
    "# neighbor identification can also be done with sklearn\n",
    "from sklearn.neighbors import NearestNeighbors\n",
    "nn = NearestNeighbors(n_neighbors=1)\n",
    "\n",
    "core_points = x[dbscan.core_sample_indices_]\n",
    "nn.fit(core_points)\n",
    "\n",
    "distances, indices = nn.kneighbors(x[[0]])\n",
    "if distances[0][0] <= dbscan.eps:\n",
    "    new_label = labels[dbscan.core_sample_indices_][indices[0][0]]\n",
    "else:\n",
    "    new_label = -1  # Mark as noise\n",
    "\n",
    "new_label"
   ]
  },
  {
   "cell_type": "code",
   "execution_count": null,
   "id": "947c7c6b-73d8-4f53-8271-8c6bf374f153",
   "metadata": {},
   "outputs": [],
   "source": [
    "plt.scatter(x[:,0],\n",
    "            x[:,1],\n",
    "            # color=[ourcolors[i] for i in kmeans.labels_])\n",
    "            color=[ourcolors[i] for i in dbscan.labels_])"
   ]
  },
  {
   "cell_type": "code",
   "execution_count": null,
   "id": "0faaaf10-a84c-488a-a3b3-f249fd042eb9",
   "metadata": {},
   "outputs": [],
   "source": [
    "# kmeans.labels_\n",
    "dbscan.labels_"
   ]
  },
  {
   "cell_type": "code",
   "execution_count": null,
   "id": "df417869-9879-4f7d-b8c4-d8416e06cd08",
   "metadata": {},
   "outputs": [],
   "source": [
    "# kmeans.cluster_centers_\n",
    "dbscan.cluster_centers_\n",
    "\n",
    "# also ERROR\n",
    "# there are no cluster centers with DBSCAN"
   ]
  },
  {
   "cell_type": "code",
   "execution_count": null,
   "id": "e6590d06-ccb4-43e8-bb8b-e5d0e373f548",
   "metadata": {},
   "outputs": [],
   "source": [
    "# but there are core points\n",
    "dbscan.core_sample_indices_[:10], dbscan.components_"
   ]
  },
  {
   "cell_type": "code",
   "execution_count": null,
   "id": "6043da35-4de2-4349-a9f9-878a49719b59",
   "metadata": {},
   "outputs": [],
   "source": [
    "import ipywidgets"
   ]
  },
  {
   "cell_type": "code",
   "execution_count": null,
   "id": "68b98cfa-881f-4ce4-adbd-9138f5370c7c",
   "metadata": {},
   "outputs": [],
   "source": [
    "dbscan = DBSCAN(eps=0.3, min_samples=5)\n",
    "dbscan.fit(x)\n",
    "dbscan.labels_"
   ]
  },
  {
   "cell_type": "code",
   "execution_count": null,
   "id": "e89f7cf5-86c5-4aad-b77c-d396e8e856ce",
   "metadata": {},
   "outputs": [],
   "source": [
    "# def plotblobs(n):\n",
    "    # kmeans = KMeans(n_clusters=n, n_init=10)\n",
    "    # kmeans.fit(x)\n",
    "    # plt.scatter(x[:,0], x[:,1], color=[ourcolors[i] for i in kmeans.labels_])\n",
    "\n",
    "# Note: we need to remember that \"-1\" is used for unclustered points\n",
    "# so this color mapping is a little sloppy if number of clusters > 9\n",
    "def plotblobs(m,n):\n",
    "    dbscan = DBSCAN(eps=m, min_samples=n)\n",
    "    dbscan.fit(x)\n",
    "    plt.scatter(x[:,0], x[:,1], color=[ourcolors[i % 10] for i in dbscan.labels_])\n",
    "    \n",
    "ipywidgets.interact(plotblobs,m=(0.1,1.0),n=(1,10));"
   ]
  },
  {
   "cell_type": "code",
   "execution_count": null,
   "id": "33367fb0-8d77-4497-a619-12034683775e",
   "metadata": {},
   "outputs": [],
   "source": [
    "# def plotblobs(n):\n",
    "    # kmeans = KMeans(n_clusters=n, n_init=10)\n",
    "    # kmeans.fit(x)\n",
    "    # plt.scatter(x[:,0], x[:,1], color=[ourcolors[i] for i in kmeans.labels_])\n",
    "\n",
    "# Note: we need to remember that \"-1\" is used for unclustered points\n",
    "# so this color mapping is a little sloppy if number of clusters > 9\n",
    "def plotblobs(m,n):\n",
    "    dbscan = DBSCAN(eps=m, min_samples=n)\n",
    "    dbscan.fit(x)\n",
    "    plt.scatter(x[:,0], x[:,1], color=[ourcolors[i % 10] for i in dbscan.labels_])\n",
    "    for i in range(len(x[:,0])):\n",
    "        if dbscan.labels_[i] == -1:\n",
    "            plt.scatter(x[i,0],x[i,1],marker='x',color='red')\n",
    "    \n",
    "ipywidgets.interact(plotblobs,m=(0.1,1.0),n=(1,10));"
   ]
  }
 ],
 "metadata": {
  "kernelspec": {
   "display_name": "Python 3 (ipykernel)",
   "language": "python",
   "name": "python3"
  },
  "language_info": {
   "codemirror_mode": {
    "name": "ipython",
    "version": 3
   },
   "file_extension": ".py",
   "mimetype": "text/x-python",
   "name": "python",
   "nbconvert_exporter": "python",
   "pygments_lexer": "ipython3",
   "version": "3.10.16"
  }
 },
 "nbformat": 4,
 "nbformat_minor": 5
}
