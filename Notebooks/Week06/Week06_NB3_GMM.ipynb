{
 "cells": [
  {
   "cell_type": "markdown",
   "id": "a89f9c20-72c3-4815-928e-3e8c9b411c82",
   "metadata": {},
   "source": [
    "# Clustering with a Gaussian Mixture Model"
   ]
  },
  {
   "cell_type": "code",
   "execution_count": null,
   "id": "ae55406f-c119-4b89-bc78-4c4338c6bc53",
   "metadata": {},
   "outputs": [],
   "source": [
    "import pandas as pd"
   ]
  },
  {
   "cell_type": "markdown",
   "id": "558db288-db3f-465e-b60c-c5fb9873e9ab",
   "metadata": {},
   "source": [
    "First we make our fictional dataset."
   ]
  },
  {
   "cell_type": "code",
   "execution_count": null,
   "id": "ffff99cb-03c9-4b73-9cc2-7c41b5edb899",
   "metadata": {},
   "outputs": [],
   "source": [
    "from sklearn.datasets import make_blobs"
   ]
  },
  {
   "cell_type": "code",
   "execution_count": null,
   "id": "10b88e2e-c783-4489-84c8-29e86ea47213",
   "metadata": {},
   "outputs": [],
   "source": [
    "x, y = make_blobs(n_samples=300, centers=4, cluster_std=0.60, random_state=0)"
   ]
  },
  {
   "cell_type": "code",
   "execution_count": null,
   "id": "346e60ff-25c2-4231-be2b-91bdb7488fb0",
   "metadata": {},
   "outputs": [],
   "source": [
    "x[:10]"
   ]
  },
  {
   "cell_type": "code",
   "execution_count": null,
   "id": "e1cb77c8-ce81-444f-80c3-07725b3cfd72",
   "metadata": {},
   "outputs": [],
   "source": [
    "y"
   ]
  },
  {
   "cell_type": "code",
   "execution_count": null,
   "id": "66f8ee1e-aeda-4da6-bb9e-0bff581b8938",
   "metadata": {},
   "outputs": [],
   "source": [
    "import matplotlib.pyplot as plt"
   ]
  },
  {
   "cell_type": "code",
   "execution_count": null,
   "id": "a75074ec-0a1d-4458-b244-cda2767abd7e",
   "metadata": {},
   "outputs": [],
   "source": [
    "ourcolors = ['red','blue','black','green','yellow','magenta','orange','brown','grey','aqua']"
   ]
  },
  {
   "cell_type": "code",
   "execution_count": null,
   "id": "9ac4d9ac-5693-4d3f-a385-96b3fd30f47b",
   "metadata": {},
   "outputs": [],
   "source": [
    "plt.scatter(x[:,0],\n",
    "            x[:,1],\n",
    "            color=[ourcolors[i] for i in y])\n",
    "plt.xlabel('x0')\n",
    "plt.ylabel('x1')"
   ]
  },
  {
   "cell_type": "code",
   "execution_count": null,
   "id": "714eaf7d-9a38-4bf3-897e-1e12268f40fc",
   "metadata": {},
   "outputs": [],
   "source": [
    "plt.scatter(x[:,0],\n",
    "            x[:,1])\n",
    "plt.xlabel('x0')\n",
    "plt.ylabel('x1')"
   ]
  },
  {
   "cell_type": "code",
   "execution_count": null,
   "id": "2f60fdfd-df35-4da6-a3de-5f8400bfc8c2",
   "metadata": {},
   "outputs": [],
   "source": [
    "# from sklearn.cluster import KMeans\n",
    "# from sklearn.cluster import DBSCAN\n",
    "from sklearn.mixture import GaussianMixture"
   ]
  },
  {
   "cell_type": "markdown",
   "id": "1685d874-6349-4fde-8973-58b7ccb7b9e6",
   "metadata": {},
   "source": [
    "We create an object for our model by calling \"GaussianMixture\" with specification for `n_components` (the number of distributions to find)."
   ]
  },
  {
   "cell_type": "code",
   "execution_count": null,
   "id": "b22c43e4-f27e-471b-923a-b7ae99872a6a",
   "metadata": {},
   "outputs": [],
   "source": [
    "# kmeans = KMeans(n_clusters=4, n_init=10)\n",
    "# dbscan = DBSCAN(eps=0.1, min_samples=5)\n",
    "gm = GaussianMixture(n_components=4, n_init=10, random_state=42)"
   ]
  },
  {
   "cell_type": "markdown",
   "id": "32286eae-6c07-4a2e-96af-1f9a78f3a495",
   "metadata": {},
   "source": [
    "We then call the fit method, and pass in the data in which we want to search for clusters"
   ]
  },
  {
   "cell_type": "code",
   "execution_count": null,
   "id": "f8887391-4004-42d3-80f7-cf49a5ef4fe3",
   "metadata": {},
   "outputs": [],
   "source": [
    "# kmeans.fit(x)\n",
    "# dbscan.fit(x)\n",
    "gm.fit(x)"
   ]
  },
  {
   "cell_type": "code",
   "execution_count": null,
   "id": "68db0548-7293-4793-9e02-c28cd7c88f6b",
   "metadata": {},
   "outputs": [],
   "source": [
    "x[[0]]"
   ]
  },
  {
   "cell_type": "code",
   "execution_count": null,
   "id": "92c1068b-d448-444c-88f8-9950b99c2009",
   "metadata": {},
   "outputs": [],
   "source": [
    "# kmeans.predict(x[[0]])\n",
    "# dbscan.predict(x[[0]])\n",
    "gm.predict(x[[0]])"
   ]
  },
  {
   "cell_type": "code",
   "execution_count": null,
   "id": "3b82b0f7-8338-48cd-97c0-eff88092bc2b",
   "metadata": {},
   "outputs": [],
   "source": [
    "# the below will give an error!\n",
    "# why?\n",
    "plt.scatter(x[:,0],\n",
    "            x[:,1],\n",
    "            # color=[ourcolors[i] for i in kmeans.labels_])\n",
    "            # color=[ourcolors[i] for i in dbscan.labels_])\n",
    "            color=[ourcolors[i] for i in gm.labels_])"
   ]
  },
  {
   "cell_type": "code",
   "execution_count": null,
   "id": "f39e4a37-4580-4783-89ff-56d7ffb24694",
   "metadata": {},
   "outputs": [],
   "source": [
    "# kmeans.labels_\n",
    "# dbscan.labels_\n",
    "# gm.labels_\n",
    "\n",
    "# error:\n",
    "# no labels are predicted; we're trying to learn the gaussian distributions\n",
    "gm.predict(x)"
   ]
  },
  {
   "cell_type": "code",
   "execution_count": null,
   "id": "cd3de5c6-418f-4856-a23f-eb6774f4d87b",
   "metadata": {},
   "outputs": [],
   "source": [
    "plt.scatter(x[:,0],\n",
    "            x[:,1],\n",
    "            color=[ourcolors[i] for i in gm.predict(x)])"
   ]
  },
  {
   "cell_type": "code",
   "execution_count": null,
   "id": "273b9c49-d0d5-4e18-97b8-18b7f22b6f9e",
   "metadata": {},
   "outputs": [],
   "source": [
    "import ipywidgets"
   ]
  },
  {
   "cell_type": "code",
   "execution_count": null,
   "id": "b2e5a845-0176-49df-935b-211792f925bf",
   "metadata": {},
   "outputs": [],
   "source": [
    "# def plotblobs(n):\n",
    "    # kmeans = KMeans(n_clusters=n, n_init=10)\n",
    "    # kmeans.fit(x)\n",
    "    # plt.scatter(x[:,0], x[:,1], color=[ourcolors[i] for i in kmeans.labels_])\n",
    "\n",
    "# Note: we need to remember that \"-1\" is used for unclustered points\n",
    "# so this color mapping is a little sloppy if number of clusters > 9\n",
    "# def plotblobs(m,n):\n",
    "#     dbscan = DBSCAN(eps=m, min_samples=n)\n",
    "#     dbscan.fit(x)\n",
    "#     plt.scatter(x[:,0], x[:,1], color=[ourcolors[i % 10] for i in dbscan.labels_])\n",
    "\n",
    "def plotblobs(n):\n",
    "    gm = GaussianMixture(n_components=n, n_init=10, random_state=42)\n",
    "    gm.fit(x)\n",
    "    plt.scatter(x[:,0], x[:,1], color=[ourcolors[i % 10] for i in gm.predict(x)])\n",
    "\n",
    "ipywidgets.interact(plotblobs,n=(1,10));"
   ]
  },
  {
   "cell_type": "markdown",
   "id": "4a71e655-a32c-4368-881e-681d9f23e116",
   "metadata": {},
   "source": [
    "# Let's compare all of them on a different dataset"
   ]
  },
  {
   "cell_type": "code",
   "execution_count": null,
   "id": "69521c11-70ad-4bbb-a19d-0746e69b1732",
   "metadata": {},
   "outputs": [],
   "source": [
    "from sklearn.cluster import KMeans\n",
    "from sklearn.cluster import DBSCAN\n",
    "from sklearn.mixture import GaussianMixture\n",
    "\n",
    "from sklearn.datasets import make_moons"
   ]
  },
  {
   "cell_type": "code",
   "execution_count": null,
   "id": "d0a4ca8d-e9b1-4c49-9ef0-48aa8971fb58",
   "metadata": {},
   "outputs": [],
   "source": [
    "x, y = make_moons(n_samples=1000, noise=0.1, random_state=42)"
   ]
  },
  {
   "cell_type": "code",
   "execution_count": null,
   "id": "04872115-a1ef-42db-bb90-57fa3098d94b",
   "metadata": {},
   "outputs": [],
   "source": [
    "plt.scatter(x[:,0], x[:,1], color=[ourcolors[i % 10] for i in y])"
   ]
  },
  {
   "cell_type": "code",
   "execution_count": null,
   "id": "8c82eac2-2a64-434e-92ba-7da9e97fe4c7",
   "metadata": {},
   "outputs": [],
   "source": [
    "def plot_kmeans(n,m=0):\n",
    "    kmeans = KMeans(n_clusters=n, n_init=10, random_state=0)\n",
    "    kmeans.fit(x)\n",
    "    plt.scatter(x[:,0], x[:,1], color=[ourcolors[i] for i in kmeans.labels_])\n",
    "\n",
    "# Note: we need to remember that \"-1\" is used for unclustered points\n",
    "# so this color mapping is a little sloppy if number of clusters > 9\n",
    "def plot_dbscan(n,m):\n",
    "    dbscan = DBSCAN(eps=m, min_samples=n)\n",
    "    dbscan.fit(x)\n",
    "    plt.scatter(x[:,0], x[:,1], color=[ourcolors[i % 10] for i in dbscan.labels_])\n",
    "    for i in range(len(x[:,0])):\n",
    "        if dbscan.labels_[i] == -1:\n",
    "            plt.scatter(x[i,0],x[i,1],marker='x',color='red')\n",
    "\n",
    "def plot_gm(n,m=0):\n",
    "    gm = GaussianMixture(n_components=n, n_init=10, random_state=42)\n",
    "    gm.fit(x)\n",
    "    plt.scatter(x[:,0], x[:,1], color=[ourcolors[i % 10] for i in gm.predict(x)])\n",
    "\n",
    "def makeplot(method=plot_kmeans,n=1,m=0):\n",
    "    method(n,m)\n",
    "    return\n",
    "    \n",
    "ipywidgets.interact(makeplot,\n",
    "                    method=[plot_kmeans,plot_dbscan,plot_gm],\n",
    "                    n=(1,10),\n",
    "                    m=(0.1,1.0));"
   ]
  },
  {
   "cell_type": "markdown",
   "id": "b83f4b78-b318-43ac-9964-846f78b1891a",
   "metadata": {},
   "source": [
    "# Book's data example:"
   ]
  },
  {
   "cell_type": "code",
   "execution_count": null,
   "id": "09bd8c6c-711e-477d-a92c-3fbb00c59991",
   "metadata": {},
   "outputs": [],
   "source": [
    "import numpy as np"
   ]
  },
  {
   "cell_type": "code",
   "execution_count": null,
   "id": "0e2331b7-4c3c-47b2-93b1-4ec650f35a0c",
   "metadata": {},
   "outputs": [],
   "source": [
    "X1, y1 = make_blobs(n_samples=1000, centers=((4, -4), (0, 0)), random_state=42)\n",
    "X1 = X1.dot(np.array([[0.374, 0.95], [0.732, 0.598]]))\n",
    "X2, y2 = make_blobs(n_samples=250, centers=1, random_state=42)\n",
    "X2 = X2 + [6, -8]\n",
    "x = np.r_[X1, X2]\n",
    "y = np.r_[y1, y2]"
   ]
  },
  {
   "cell_type": "code",
   "execution_count": null,
   "id": "8e809284-44c0-43e2-b54e-bb2db82f0f14",
   "metadata": {},
   "outputs": [],
   "source": [
    "plt.scatter(x[:,0], x[:,1], color=[ourcolors[i % 10] for i in y])"
   ]
  },
  {
   "cell_type": "code",
   "execution_count": null,
   "id": "790cd865-8300-4d8b-b636-f48fdae53da3",
   "metadata": {},
   "outputs": [],
   "source": [
    "def plot_kmeans(n,m=0):\n",
    "    kmeans = KMeans(n_clusters=n, n_init=10, random_state=0)\n",
    "    kmeans.fit(x)\n",
    "    plt.scatter(x[:,0], x[:,1], color=[ourcolors[i] for i in kmeans.labels_])\n",
    "\n",
    "# Note: we need to remember that \"-1\" is used for unclustered points\n",
    "# so this color mapping is a little sloppy if number of clusters > 9\n",
    "def plot_dbscan(n,m):\n",
    "    dbscan = DBSCAN(eps=m, min_samples=n)\n",
    "    dbscan.fit(x)\n",
    "    plt.scatter(x[:,0], x[:,1], color=[ourcolors[i % 10] for i in dbscan.labels_])\n",
    "    for i in range(len(x[:,0])):\n",
    "        if dbscan.labels_[i] == -1:\n",
    "            plt.scatter(x[i,0],x[i,1],marker='x',color='red')\n",
    "\n",
    "def plot_gm(n,m=0):\n",
    "    gm = GaussianMixture(n_components=n, n_init=10, random_state=42)\n",
    "    gm.fit(x)\n",
    "    plt.scatter(x[:,0], x[:,1], color=[ourcolors[i % 10] for i in gm.predict(x)])\n",
    "\n",
    "def makeplot(method=plot_kmeans,n=1,m=0):\n",
    "    method(n,m)\n",
    "    return\n",
    "    \n",
    "ipywidgets.interact(makeplot,\n",
    "                    method=[plot_kmeans,plot_dbscan,plot_gm],\n",
    "                    n=(1,10),\n",
    "                    m=(0.1,1.0));"
   ]
  }
 ],
 "metadata": {
  "kernelspec": {
   "display_name": "Python 3 (ipykernel)",
   "language": "python",
   "name": "python3"
  },
  "language_info": {
   "codemirror_mode": {
    "name": "ipython",
    "version": 3
   },
   "file_extension": ".py",
   "mimetype": "text/x-python",
   "name": "python",
   "nbconvert_exporter": "python",
   "pygments_lexer": "ipython3",
   "version": "3.10.16"
  }
 },
 "nbformat": 4,
 "nbformat_minor": 5
}
